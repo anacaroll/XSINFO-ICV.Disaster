{
 "cells": [
  {
   "cell_type": "code",
   "execution_count": 116,
   "metadata": {},
   "outputs": [
    {
     "name": "stdout",
     "output_type": "stream",
     "text": [
      "Requirement already satisfied: nltk in /home/mpgxc/anaconda3/lib/python3.7/site-packages (3.4)\n",
      "Requirement already satisfied: six in /home/mpgxc/anaconda3/lib/python3.7/site-packages (from nltk) (1.12.0)\n",
      "Requirement already satisfied: singledispatch in /home/mpgxc/anaconda3/lib/python3.7/site-packages (from nltk) (3.4.0.3)\n"
     ]
    }
   ],
   "source": [
    "import json, csv, string, datetime, re\n",
    "from dateutil.parser import parse\n",
    "import pandas as pd\n",
    "import numpy as np\n",
    "\n",
    "!pip install nltk\n",
    "from nltk.tokenize import TweetTokenizer\n",
    "from nltk.stem.snowball import SnowballStemmer \n",
    "from nltk.corpus import stopwords"
   ]
  },
  {
   "cell_type": "markdown",
   "metadata": {},
   "source": [
    "### Funções de Limpeza"
   ]
  },
  {
   "cell_type": "code",
   "execution_count": 117,
   "metadata": {},
   "outputs": [],
   "source": [
    "def remove_numbers(tweet):\n",
    "    return re.sub(r'\\d+', '', tweet)\n",
    "\n",
    "def remove_dots(tweet):\n",
    "    \n",
    "    \"\"\"Remove todo !\"#$%&\\'()*+,-./:;<=>?@[\\\\]^_`{|}~\"\"\"\n",
    "    \n",
    "    return  re.compile(\n",
    "        f'[{re.escape(string.punctuation)}]'\n",
    "    ).sub(' ', tweet)\n",
    "\n",
    "def remove_stopwords(tweet, lang = 'english'):\n",
    "    \n",
    "    stop_words, toker = stopwords.words(lang), TweetTokenizer()\n",
    "    \n",
    "    tweet_tmp = remove_numbers(tweet)\n",
    "    tweet_tmp = remove_dots(tweet_tmp)\n",
    "    tweet_tmp  = toker.tokenize(tweet_tmp)\n",
    "    \n",
    "    return [word.lower() for word in tweet_tmp if not word in stop_words]"
   ]
  },
  {
   "cell_type": "code",
   "execution_count": 118,
   "metadata": {},
   "outputs": [
    {
     "data": {
      "text/html": [
       "<div>\n",
       "<style scoped>\n",
       "    .dataframe tbody tr th:only-of-type {\n",
       "        vertical-align: middle;\n",
       "    }\n",
       "\n",
       "    .dataframe tbody tr th {\n",
       "        vertical-align: top;\n",
       "    }\n",
       "\n",
       "    .dataframe thead th {\n",
       "        text-align: right;\n",
       "    }\n",
       "</style>\n",
       "<table border=\"1\" class=\"dataframe\">\n",
       "  <thead>\n",
       "    <tr style=\"text-align: right;\">\n",
       "      <th></th>\n",
       "      <th>date</th>\n",
       "      <th>id_str</th>\n",
       "      <th>user_name</th>\n",
       "      <th>text</th>\n",
       "      <th>time</th>\n",
       "      <th>latitude</th>\n",
       "      <th>longitude</th>\n",
       "    </tr>\n",
       "  </thead>\n",
       "  <tbody>\n",
       "    <tr>\n",
       "      <th>0</th>\n",
       "      <td>2018-05-06</td>\n",
       "      <td>2.379071e+09</td>\n",
       "      <td>tiedyehobo</td>\n",
       "      <td>majic sands beach kona hawaiiawesome tunes car...</td>\n",
       "      <td>20:41:33</td>\n",
       "      <td>19.594333</td>\n",
       "      <td>-155.971728</td>\n",
       "    </tr>\n",
       "    <tr>\n",
       "      <th>1</th>\n",
       "      <td>2018-05-06</td>\n",
       "      <td>2.929292e+07</td>\n",
       "      <td>queeraspoetry</td>\n",
       "      <td>good 🤙 🌋 center spiritual living hawai</td>\n",
       "      <td>20:33:41</td>\n",
       "      <td>19.560340</td>\n",
       "      <td>-154.986600</td>\n",
       "    </tr>\n",
       "    <tr>\n",
       "      <th>2</th>\n",
       "      <td>2018-05-06</td>\n",
       "      <td>8.149151e+17</td>\n",
       "      <td>Hazards_Network</td>\n",
       "      <td>monday january an earthquake magnitude shook k...</td>\n",
       "      <td>20:30:04</td>\n",
       "      <td>19.078167</td>\n",
       "      <td>-155.187667</td>\n",
       "    </tr>\n",
       "    <tr>\n",
       "      <th>3</th>\n",
       "      <td>2018-05-06</td>\n",
       "      <td>4.142280e+08</td>\n",
       "      <td>NaomiCooper808</td>\n",
       "      <td>vacay ladat waimea hawaii county hawai</td>\n",
       "      <td>20:09:43</td>\n",
       "      <td>20.020278</td>\n",
       "      <td>-155.667778</td>\n",
       "    </tr>\n",
       "    <tr>\n",
       "      <th>4</th>\n",
       "      <td>2018-05-06</td>\n",
       "      <td>2.011251e+07</td>\n",
       "      <td>vioart527</td>\n",
       "      <td>last sunset hawaii next time</td>\n",
       "      <td>19:46:08</td>\n",
       "      <td>19.650000</td>\n",
       "      <td>-155.994000</td>\n",
       "    </tr>\n",
       "  </tbody>\n",
       "</table>\n",
       "</div>"
      ],
      "text/plain": [
       "         date        id_str        user_name  \\\n",
       "0  2018-05-06  2.379071e+09       tiedyehobo   \n",
       "1  2018-05-06  2.929292e+07    queeraspoetry   \n",
       "2  2018-05-06  8.149151e+17  Hazards_Network   \n",
       "3  2018-05-06  4.142280e+08   NaomiCooper808   \n",
       "4  2018-05-06  2.011251e+07        vioart527   \n",
       "\n",
       "                                                text      time   latitude  \\\n",
       "0  majic sands beach kona hawaiiawesome tunes car...  20:41:33  19.594333   \n",
       "1             good 🤙 🌋 center spiritual living hawai  20:33:41  19.560340   \n",
       "2  monday january an earthquake magnitude shook k...  20:30:04  19.078167   \n",
       "3             vacay ladat waimea hawaii county hawai  20:09:43  20.020278   \n",
       "4                       last sunset hawaii next time  19:46:08  19.650000   \n",
       "\n",
       "    longitude  \n",
       "0 -155.971728  \n",
       "1 -154.986600  \n",
       "2 -155.187667  \n",
       "3 -155.667778  \n",
       "4 -155.994000  "
      ]
     },
     "execution_count": 118,
     "metadata": {},
     "output_type": "execute_result"
    }
   ],
   "source": [
    "data = pd.read_csv('DATASET.csv')\n",
    "data.head()"
   ]
  },
  {
   "cell_type": "markdown",
   "metadata": {},
   "source": [
    "### Varificando valores NaN"
   ]
  },
  {
   "cell_type": "code",
   "execution_count": 119,
   "metadata": {},
   "outputs": [
    {
     "data": {
      "text/plain": [
       "date         0\n",
       "id_str       0\n",
       "user_name    0\n",
       "text         2\n",
       "time         0\n",
       "latitude     0\n",
       "longitude    0\n",
       "dtype: int64"
      ]
     },
     "execution_count": 119,
     "metadata": {},
     "output_type": "execute_result"
    }
   ],
   "source": [
    "data.isnull().sum()"
   ]
  },
  {
   "cell_type": "markdown",
   "metadata": {},
   "source": [
    "### Vendo quem são"
   ]
  },
  {
   "cell_type": "code",
   "execution_count": 120,
   "metadata": {},
   "outputs": [
    {
     "data": {
      "text/html": [
       "<div>\n",
       "<style scoped>\n",
       "    .dataframe tbody tr th:only-of-type {\n",
       "        vertical-align: middle;\n",
       "    }\n",
       "\n",
       "    .dataframe tbody tr th {\n",
       "        vertical-align: top;\n",
       "    }\n",
       "\n",
       "    .dataframe thead th {\n",
       "        text-align: right;\n",
       "    }\n",
       "</style>\n",
       "<table border=\"1\" class=\"dataframe\">\n",
       "  <thead>\n",
       "    <tr style=\"text-align: right;\">\n",
       "      <th></th>\n",
       "      <th>date</th>\n",
       "      <th>id_str</th>\n",
       "      <th>user_name</th>\n",
       "      <th>text</th>\n",
       "      <th>time</th>\n",
       "      <th>latitude</th>\n",
       "      <th>longitude</th>\n",
       "    </tr>\n",
       "  </thead>\n",
       "  <tbody>\n",
       "    <tr>\n",
       "      <th>2219</th>\n",
       "      <td>2018-05-22</td>\n",
       "      <td>7.022909e+17</td>\n",
       "      <td>object82</td>\n",
       "      <td>NaN</td>\n",
       "      <td>03:30:04</td>\n",
       "      <td>19.975800</td>\n",
       "      <td>-155.315800</td>\n",
       "    </tr>\n",
       "    <tr>\n",
       "      <th>2688</th>\n",
       "      <td>2018-05-08</td>\n",
       "      <td>1.447949e+09</td>\n",
       "      <td>autoRNG</td>\n",
       "      <td>NaN</td>\n",
       "      <td>12:22:57</td>\n",
       "      <td>21.247147</td>\n",
       "      <td>-155.461077</td>\n",
       "    </tr>\n",
       "  </tbody>\n",
       "</table>\n",
       "</div>"
      ],
      "text/plain": [
       "            date        id_str user_name text      time   latitude   longitude\n",
       "2219  2018-05-22  7.022909e+17  object82  NaN  03:30:04  19.975800 -155.315800\n",
       "2688  2018-05-08  1.447949e+09   autoRNG  NaN  12:22:57  21.247147 -155.461077"
      ]
     },
     "execution_count": 120,
     "metadata": {},
     "output_type": "execute_result"
    }
   ],
   "source": [
    "nulls = data[data['text'].isnull()]\n",
    "nulls"
   ]
  },
  {
   "cell_type": "markdown",
   "metadata": {},
   "source": [
    "### Resolvendo Valores NaN"
   ]
  },
  {
   "cell_type": "code",
   "execution_count": 121,
   "metadata": {},
   "outputs": [],
   "source": [
    "for index in nulls.index:\n",
    "    data['text'].loc[index] = 'ERA NAN, MAS AGORA NÂO É!'"
   ]
  },
  {
   "cell_type": "markdown",
   "metadata": {},
   "source": [
    "### Removendo conteúdo nulo!"
   ]
  },
  {
   "cell_type": "code",
   "execution_count": 122,
   "metadata": {},
   "outputs": [],
   "source": [
    "data.dropna(inplace = True)"
   ]
  },
  {
   "cell_type": "markdown",
   "metadata": {},
   "source": [
    "### Aplicando os filtros no campo **text**"
   ]
  },
  {
   "cell_type": "code",
   "execution_count": 123,
   "metadata": {},
   "outputs": [],
   "source": [
    "for k, x in enumerate(data['text']):\n",
    "    data.loc[k,'text'] = str(\" \".join(remove_stopwords(x)))"
   ]
  },
  {
   "cell_type": "markdown",
   "metadata": {},
   "source": [
    "### Observado as alterações na base!"
   ]
  },
  {
   "cell_type": "code",
   "execution_count": 124,
   "metadata": {},
   "outputs": [
    {
     "data": {
      "text/html": [
       "<div>\n",
       "<style scoped>\n",
       "    .dataframe tbody tr th:only-of-type {\n",
       "        vertical-align: middle;\n",
       "    }\n",
       "\n",
       "    .dataframe tbody tr th {\n",
       "        vertical-align: top;\n",
       "    }\n",
       "\n",
       "    .dataframe thead th {\n",
       "        text-align: right;\n",
       "    }\n",
       "</style>\n",
       "<table border=\"1\" class=\"dataframe\">\n",
       "  <thead>\n",
       "    <tr style=\"text-align: right;\">\n",
       "      <th></th>\n",
       "      <th>date</th>\n",
       "      <th>id_str</th>\n",
       "      <th>user_name</th>\n",
       "      <th>text</th>\n",
       "      <th>time</th>\n",
       "      <th>latitude</th>\n",
       "      <th>longitude</th>\n",
       "    </tr>\n",
       "  </thead>\n",
       "  <tbody>\n",
       "    <tr>\n",
       "      <th>0</th>\n",
       "      <td>2018-05-06</td>\n",
       "      <td>2.379071e+09</td>\n",
       "      <td>tiedyehobo</td>\n",
       "      <td>majic sands beach kona hawaiiawesome tunes car...</td>\n",
       "      <td>20:41:33</td>\n",
       "      <td>19.594333</td>\n",
       "      <td>-155.971728</td>\n",
       "    </tr>\n",
       "    <tr>\n",
       "      <th>1</th>\n",
       "      <td>2018-05-06</td>\n",
       "      <td>2.929292e+07</td>\n",
       "      <td>queeraspoetry</td>\n",
       "      <td>good 🤙 🌋 center spiritual living hawai</td>\n",
       "      <td>20:33:41</td>\n",
       "      <td>19.560340</td>\n",
       "      <td>-154.986600</td>\n",
       "    </tr>\n",
       "    <tr>\n",
       "      <th>2</th>\n",
       "      <td>2018-05-06</td>\n",
       "      <td>8.149151e+17</td>\n",
       "      <td>Hazards_Network</td>\n",
       "      <td>monday january earthquake magnitude shook km e...</td>\n",
       "      <td>20:30:04</td>\n",
       "      <td>19.078167</td>\n",
       "      <td>-155.187667</td>\n",
       "    </tr>\n",
       "    <tr>\n",
       "      <th>3</th>\n",
       "      <td>2018-05-06</td>\n",
       "      <td>4.142280e+08</td>\n",
       "      <td>NaomiCooper808</td>\n",
       "      <td>vacay ladat waimea hawaii county hawai</td>\n",
       "      <td>20:09:43</td>\n",
       "      <td>20.020278</td>\n",
       "      <td>-155.667778</td>\n",
       "    </tr>\n",
       "    <tr>\n",
       "      <th>4</th>\n",
       "      <td>2018-05-06</td>\n",
       "      <td>2.011251e+07</td>\n",
       "      <td>vioart527</td>\n",
       "      <td>last sunset hawaii next time</td>\n",
       "      <td>19:46:08</td>\n",
       "      <td>19.650000</td>\n",
       "      <td>-155.994000</td>\n",
       "    </tr>\n",
       "    <tr>\n",
       "      <th>5</th>\n",
       "      <td>2018-05-06</td>\n",
       "      <td>2.379071e+09</td>\n",
       "      <td>tiedyehobo</td>\n",
       "      <td>uzygxss tiedyehobo tiedye hippie hawaii tiedyehob</td>\n",
       "      <td>18:52:58</td>\n",
       "      <td>19.525750</td>\n",
       "      <td>-155.923580</td>\n",
       "    </tr>\n",
       "    <tr>\n",
       "      <th>6</th>\n",
       "      <td>2018-05-06</td>\n",
       "      <td>1.864570e+07</td>\n",
       "      <td>syvideo</td>\n",
       "      <td>adventures covering lava flow hilo hi leilani ...</td>\n",
       "      <td>18:18:05</td>\n",
       "      <td>19.473500</td>\n",
       "      <td>-154.920000</td>\n",
       "    </tr>\n",
       "    <tr>\n",
       "      <th>7</th>\n",
       "      <td>2018-05-06</td>\n",
       "      <td>1.882971e+07</td>\n",
       "      <td>rodney_o</td>\n",
       "      <td>breakfast pahala leftovers rustyshawaiian coff...</td>\n",
       "      <td>18:15:13</td>\n",
       "      <td>19.204109</td>\n",
       "      <td>-155.479005</td>\n",
       "    </tr>\n",
       "    <tr>\n",
       "      <th>8</th>\n",
       "      <td>2018-05-06</td>\n",
       "      <td>4.934616e+08</td>\n",
       "      <td>ashleyyyz3</td>\n",
       "      <td>home 🍃 napoopoo hawai</td>\n",
       "      <td>17:52:28</td>\n",
       "      <td>19.476400</td>\n",
       "      <td>-155.923000</td>\n",
       "    </tr>\n",
       "    <tr>\n",
       "      <th>9</th>\n",
       "      <td>2018-05-06</td>\n",
       "      <td>1.714726e+09</td>\n",
       "      <td>itsnotben</td>\n",
       "      <td>hawaii round hours airplane earthquakes volcan...</td>\n",
       "      <td>17:38:12</td>\n",
       "      <td>19.431649</td>\n",
       "      <td>-155.216870</td>\n",
       "    </tr>\n",
       "    <tr>\n",
       "      <th>10</th>\n",
       "      <td>2018-05-06</td>\n",
       "      <td>2.918153e+09</td>\n",
       "      <td>eq_map_es</td>\n",
       "      <td>【 】 isla de hawaii hawaii km utc sismo terremo...</td>\n",
       "      <td>13:30:49</td>\n",
       "      <td>19.046000</td>\n",
       "      <td>-155.173000</td>\n",
       "    </tr>\n",
       "    <tr>\n",
       "      <th>11</th>\n",
       "      <td>2018-05-06</td>\n",
       "      <td>8.195031e+08</td>\n",
       "      <td>eq_map_ww</td>\n",
       "      <td>island hawaii hawaii depth km may utc may epic...</td>\n",
       "      <td>13:30:48</td>\n",
       "      <td>19.046000</td>\n",
       "      <td>-155.173000</td>\n",
       "    </tr>\n",
       "    <tr>\n",
       "      <th>12</th>\n",
       "      <td>2018-05-06</td>\n",
       "      <td>2.955319e+08</td>\n",
       "      <td>eq_map</td>\n",
       "      <td>【 】 island hawaii hawaii km jst utc g icwpbsck...</td>\n",
       "      <td>13:30:48</td>\n",
       "      <td>19.046000</td>\n",
       "      <td>-155.173000</td>\n",
       "    </tr>\n",
       "    <tr>\n",
       "      <th>13</th>\n",
       "      <td>2018-05-06</td>\n",
       "      <td>6.063745e+08</td>\n",
       "      <td>shellokitty78</td>\n",
       "      <td>little gecko joined us drink ☺ ️ kailua kona h...</td>\n",
       "      <td>09:27:15</td>\n",
       "      <td>19.650000</td>\n",
       "      <td>-155.994000</td>\n",
       "    </tr>\n",
       "    <tr>\n",
       "      <th>14</th>\n",
       "      <td>2018-05-06</td>\n",
       "      <td>8.149151e+17</td>\n",
       "      <td>Hazards_Network</td>\n",
       "      <td>monday january earthquake magnitude shook km s...</td>\n",
       "      <td>08:20:04</td>\n",
       "      <td>19.371334</td>\n",
       "      <td>-155.033829</td>\n",
       "    </tr>\n",
       "  </tbody>\n",
       "</table>\n",
       "</div>"
      ],
      "text/plain": [
       "          date        id_str        user_name  \\\n",
       "0   2018-05-06  2.379071e+09       tiedyehobo   \n",
       "1   2018-05-06  2.929292e+07    queeraspoetry   \n",
       "2   2018-05-06  8.149151e+17  Hazards_Network   \n",
       "3   2018-05-06  4.142280e+08   NaomiCooper808   \n",
       "4   2018-05-06  2.011251e+07        vioart527   \n",
       "5   2018-05-06  2.379071e+09       tiedyehobo   \n",
       "6   2018-05-06  1.864570e+07          syvideo   \n",
       "7   2018-05-06  1.882971e+07         rodney_o   \n",
       "8   2018-05-06  4.934616e+08       ashleyyyz3   \n",
       "9   2018-05-06  1.714726e+09        itsnotben   \n",
       "10  2018-05-06  2.918153e+09        eq_map_es   \n",
       "11  2018-05-06  8.195031e+08        eq_map_ww   \n",
       "12  2018-05-06  2.955319e+08           eq_map   \n",
       "13  2018-05-06  6.063745e+08    shellokitty78   \n",
       "14  2018-05-06  8.149151e+17  Hazards_Network   \n",
       "\n",
       "                                                 text      time   latitude  \\\n",
       "0   majic sands beach kona hawaiiawesome tunes car...  20:41:33  19.594333   \n",
       "1              good 🤙 🌋 center spiritual living hawai  20:33:41  19.560340   \n",
       "2   monday january earthquake magnitude shook km e...  20:30:04  19.078167   \n",
       "3              vacay ladat waimea hawaii county hawai  20:09:43  20.020278   \n",
       "4                        last sunset hawaii next time  19:46:08  19.650000   \n",
       "5   uzygxss tiedyehobo tiedye hippie hawaii tiedyehob  18:52:58  19.525750   \n",
       "6   adventures covering lava flow hilo hi leilani ...  18:18:05  19.473500   \n",
       "7   breakfast pahala leftovers rustyshawaiian coff...  18:15:13  19.204109   \n",
       "8                               home 🍃 napoopoo hawai  17:52:28  19.476400   \n",
       "9   hawaii round hours airplane earthquakes volcan...  17:38:12  19.431649   \n",
       "10  【 】 isla de hawaii hawaii km utc sismo terremo...  13:30:49  19.046000   \n",
       "11  island hawaii hawaii depth km may utc may epic...  13:30:48  19.046000   \n",
       "12  【 】 island hawaii hawaii km jst utc g icwpbsck...  13:30:48  19.046000   \n",
       "13  little gecko joined us drink ☺ ️ kailua kona h...  09:27:15  19.650000   \n",
       "14  monday january earthquake magnitude shook km s...  08:20:04  19.371334   \n",
       "\n",
       "     longitude  \n",
       "0  -155.971728  \n",
       "1  -154.986600  \n",
       "2  -155.187667  \n",
       "3  -155.667778  \n",
       "4  -155.994000  \n",
       "5  -155.923580  \n",
       "6  -154.920000  \n",
       "7  -155.479005  \n",
       "8  -155.923000  \n",
       "9  -155.216870  \n",
       "10 -155.173000  \n",
       "11 -155.173000  \n",
       "12 -155.173000  \n",
       "13 -155.994000  \n",
       "14 -155.033829  "
      ]
     },
     "execution_count": 124,
     "metadata": {},
     "output_type": "execute_result"
    }
   ],
   "source": [
    "data.head(15)"
   ]
  },
  {
   "cell_type": "code",
   "execution_count": 125,
   "metadata": {},
   "outputs": [
    {
     "data": {
      "text/plain": [
       "date         0\n",
       "id_str       0\n",
       "user_name    0\n",
       "text         0\n",
       "time         0\n",
       "latitude     0\n",
       "longitude    0\n",
       "dtype: int64"
      ]
     },
     "execution_count": 125,
     "metadata": {},
     "output_type": "execute_result"
    }
   ],
   "source": [
    "data.isnull().sum()"
   ]
  },
  {
   "cell_type": "markdown",
   "metadata": {},
   "source": [
    "### Exportando a base normalizada."
   ]
  },
  {
   "cell_type": "code",
   "execution_count": 126,
   "metadata": {},
   "outputs": [],
   "source": [
    "data.to_csv(\"DATASET_saida.csv\",  index = None)"
   ]
  },
  {
   "cell_type": "code",
   "execution_count": null,
   "metadata": {},
   "outputs": [],
   "source": []
  }
 ],
 "metadata": {
  "kernelspec": {
   "display_name": "Python 3",
   "language": "python",
   "name": "python3"
  },
  "language_info": {
   "codemirror_mode": {
    "name": "ipython",
    "version": 3
   },
   "file_extension": ".py",
   "mimetype": "text/x-python",
   "name": "python",
   "nbconvert_exporter": "python",
   "pygments_lexer": "ipython3",
   "version": "3.7.3"
  }
 },
 "nbformat": 4,
 "nbformat_minor": 2
}
